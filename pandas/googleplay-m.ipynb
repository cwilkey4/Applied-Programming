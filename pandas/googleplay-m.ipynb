{
 "cells": [
  {
   "cell_type": "code",
   "execution_count": null,
   "metadata": {},
   "outputs": [],
   "source": [
    "import pandas as pd"
   ]
  },
  {
   "cell_type": "code",
   "execution_count": null,
   "metadata": {},
   "outputs": [],
   "source": [
    "app = pd.read_csv(\"pandas/googleplaystore.csv\", index_col=0)\n",
    "app.head()"
   ]
  },
  {
   "cell_type": "code",
   "execution_count": null,
   "metadata": {},
   "outputs": [],
   "source": [
    "app_filtered = app.dropna()"
   ]
  },
  {
   "cell_type": "markdown",
   "metadata": {},
   "source": [
    "# Which categories are the most common?\n",
    "The below cell provides code to provide a selection of the ten most commoncategories within the Google Play Store. This information is useful for determining what most users need/want on their devices. Certain applications, like a weather or map app, is almost guarenteed to be found on most any device because of their universal utility and because they are oftentimes pre-installed.  \n",
    "\n",
    "Other applications -- though still common -- may have more individualized uses, or may appeal to certain audiences more than others. That particular information is not available in this dataset, but it is not difficult to get an understanding of which categories might appeal to parents as opposed to youth or children. A majority of these top categories, however, can include a broad selection of people; the apps themselves would likely play a larger role in targeting a specific audience. "
   ]
  },
  {
   "cell_type": "code",
   "execution_count": null,
   "metadata": {},
   "outputs": [],
   "source": [
    "categories = app_filtered.groupby('Category')['App'].count()\n",
    "\n",
    "highest_categories = categories.sort_values(ascending=False)\n",
    "\n",
    "top_ten = highest_categories.head(10)\n",
    "\n",
    "print(top_ten)"
   ]
  },
  {
   "cell_type": "markdown",
   "metadata": {},
   "source": [
    "# Which apps have been installed the most?\n",
    "The below cell continues the train of thought from the last question as well as answer the above one. Some of the most recognizable applications are listed (social media platforms such as Twitter and Snapchat can be found, as well as a number of games). Each of these were recorded to have more than 500,000,000 installations. This remains true even while enlarging the selection. At approximately 75 rows, the number of installations drops. These numbers were not intended to be precise, but they still paint a clear enough image.  \n",
    "\n",
    "Out of curiosity, I also revised the previous dataframe briefly to see if some of the categories commonly found below would be listed there as well. The first ten results do not list video players to be as common, despite the fact that they are listed with a generous frequency alongside some of the more popular apps. Though it is common for a popular category to have a number of applications, it is not necessarily a fact."
   ]
  },
  {
   "cell_type": "code",
   "execution_count": null,
   "metadata": {},
   "outputs": [],
   "source": [
    "most_installs = app_filtered.sort_values(by='Installs', ascending=False)\n",
    "most_installs.head(20)"
   ]
  },
  {
   "cell_type": "code",
   "execution_count": null,
   "metadata": {},
   "outputs": [],
   "source": [
    "rating_numbers = app_filtered['Rating'].value_counts(bins=4)\n",
    "rating_numbers"
   ]
  }
 ],
 "metadata": {
  "kernelspec": {
   "display_name": "base",
   "language": "python",
   "name": "python3"
  },
  "language_info": {
   "codemirror_mode": {
    "name": "ipython",
    "version": 3
   },
   "file_extension": ".py",
   "mimetype": "text/x-python",
   "name": "python",
   "nbconvert_exporter": "python",
   "pygments_lexer": "ipython3",
   "version": "3.11.7"
  }
 },
 "nbformat": 4,
 "nbformat_minor": 2
}
